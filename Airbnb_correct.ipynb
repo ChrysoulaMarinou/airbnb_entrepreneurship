{
 "cells": [
  {
   "cell_type": "code",
   "execution_count": 1,
   "id": "947bb535",
   "metadata": {},
   "outputs": [],
   "source": [
    "import pandas as pd\n",
    "import re\n",
    "#set ups\n",
    "pd.set_option('display.max_rows', 1000)\n",
    "pd.set_option('display.max_columns', 1000)\n",
    "# importing package \n",
    "import matplotlib.pyplot as plt \n",
    "import numpy as np \n",
    "import requests\n",
    "\n",
    "#setups\n",
    "%matplotlib inline\n"
   ]
  },
  {
   "cell_type": "code",
   "execution_count": 2,
   "id": "abc2f311",
   "metadata": {},
   "outputs": [],
   "source": [
    "df=pd.read_csv(\"listings_full.csv\")"
   ]
  },
  {
   "cell_type": "markdown",
   "id": "609ef1e1",
   "metadata": {},
   "source": [
    "## Variables used !!!!!"
   ]
  },
  {
   "cell_type": "markdown",
   "id": "ef76f2af",
   "metadata": {},
   "source": [
    "listing : df containing only the listings about entire rooms <br>\n",
    "true_codes : a list that onlu has the codes of the <br>\n",
    "airbnb :<br>\n",
    "hosts_multiple :<br>\n",
    "per_area_per_night :<br>"
   ]
  },
  {
   "cell_type": "markdown",
   "id": "930cc0e4",
   "metadata": {},
   "source": [
    "## Doing all the checks needed"
   ]
  },
  {
   "cell_type": "markdown",
   "id": "8beb5139",
   "metadata": {},
   "source": [
    "No much cleaning is needed so we are going to do initial chscks before we strat the analysis"
   ]
  },
  {
   "cell_type": "code",
   "execution_count": 3,
   "id": "198c1dd1",
   "metadata": {
    "scrolled": true
   },
   "outputs": [
    {
     "data": {
      "text/plain": [
       "(13182, 75)"
      ]
     },
     "execution_count": 3,
     "metadata": {},
     "output_type": "execute_result"
    }
   ],
   "source": [
    "df.shape"
   ]
  },
  {
   "cell_type": "code",
   "execution_count": 4,
   "id": "ec62862e",
   "metadata": {
    "scrolled": true
   },
   "outputs": [
    {
     "data": {
      "text/plain": [
       "id                                                int64\n",
       "listing_url                                      object\n",
       "scrape_id                                         int64\n",
       "last_scraped                                     object\n",
       "source                                           object\n",
       "name                                             object\n",
       "description                                     float64\n",
       "neighborhood_overview                            object\n",
       "picture_url                                      object\n",
       "host_id                                           int64\n",
       "host_url                                         object\n",
       "host_name                                        object\n",
       "host_since                                       object\n",
       "host_location                                    object\n",
       "host_about                                       object\n",
       "host_response_time                               object\n",
       "host_response_rate                               object\n",
       "host_acceptance_rate                             object\n",
       "host_is_superhost                                object\n",
       "host_thumbnail_url                               object\n",
       "host_picture_url                                 object\n",
       "host_neighbourhood                               object\n",
       "host_listings_count                               int64\n",
       "host_total_listings_count                         int64\n",
       "host_verifications                               object\n",
       "host_has_profile_pic                             object\n",
       "host_identity_verified                           object\n",
       "neighbourhood                                    object\n",
       "neighbourhood_cleansed                           object\n",
       "neighbourhood_group_cleansed                    float64\n",
       "latitude                                        float64\n",
       "longitude                                       float64\n",
       "property_type                                    object\n",
       "room_type                                        object\n",
       "accommodates                                      int64\n",
       "bathrooms                                       float64\n",
       "bathrooms_text                                   object\n",
       "bedrooms                                        float64\n",
       "beds                                            float64\n",
       "amenities                                        object\n",
       "price                                            object\n",
       "minimum_nights                                    int64\n",
       "maximum_nights                                    int64\n",
       "minimum_minimum_nights                            int64\n",
       "maximum_minimum_nights                            int64\n",
       "minimum_maximum_nights                            int64\n",
       "maximum_maximum_nights                            int64\n",
       "minimum_nights_avg_ntm                          float64\n",
       "maximum_nights_avg_ntm                          float64\n",
       "calendar_updated                                float64\n",
       "has_availability                                 object\n",
       "availability_30                                   int64\n",
       "availability_60                                   int64\n",
       "availability_90                                   int64\n",
       "availability_365                                  int64\n",
       "calendar_last_scraped                            object\n",
       "number_of_reviews                                 int64\n",
       "number_of_reviews_ltm                             int64\n",
       "number_of_reviews_l30d                            int64\n",
       "first_review                                     object\n",
       "last_review                                      object\n",
       "review_scores_rating                            float64\n",
       "review_scores_accuracy                          float64\n",
       "review_scores_cleanliness                       float64\n",
       "review_scores_checkin                           float64\n",
       "review_scores_communication                     float64\n",
       "review_scores_location                          float64\n",
       "review_scores_value                             float64\n",
       "license                                          object\n",
       "instant_bookable                                 object\n",
       "calculated_host_listings_count                    int64\n",
       "calculated_host_listings_count_entire_homes       int64\n",
       "calculated_host_listings_count_private_rooms      int64\n",
       "calculated_host_listings_count_shared_rooms       int64\n",
       "reviews_per_month                               float64\n",
       "dtype: object"
      ]
     },
     "execution_count": 4,
     "metadata": {},
     "output_type": "execute_result"
    }
   ],
   "source": [
    "df.dtypes"
   ]
  },
  {
   "cell_type": "code",
   "execution_count": 5,
   "id": "3d914d8f",
   "metadata": {},
   "outputs": [],
   "source": [
    "# keeping the columns i am interested in\n",
    "df=df[['id',\n",
    "       'name', \n",
    "       'host_id',\n",
    "       'host_name', \n",
    "       'host_since',\n",
    "       'host_location', \n",
    "       'host_is_superhost',\n",
    "       'host_neighbourhood', \n",
    "       'host_listings_count',\n",
    "       'host_total_listings_count',\n",
    "       'neighbourhood',\n",
    "       'neighbourhood_cleansed',\n",
    "       'latitude', 'longitude',\n",
    "       'property_type',\n",
    "       'room_type', \n",
    "       'price',\n",
    "       'minimum_nights', \n",
    "       'maximum_nights',\n",
    "       'minimum_minimum_nights',\n",
    "       'maximum_minimum_nights',\n",
    "       'minimum_maximum_nights',\n",
    "       'maximum_maximum_nights',\n",
    "       'minimum_nights_avg_ntm',\n",
    "       'maximum_nights_avg_ntm', \n",
    "       'availability_365', \n",
    "       'review_scores_rating',\n",
    "       'review_scores_accuracy',\n",
    "       'license',\n",
    "       'instant_bookable',\n",
    "       'calculated_host_listings_count',\n",
    "       'calculated_host_listings_count_entire_homes',\n",
    "       'calculated_host_listings_count_private_rooms',\n",
    "       'calculated_host_listings_count_shared_rooms']].copy()"
   ]
  },
  {
   "cell_type": "code",
   "execution_count": 6,
   "id": "519a39af",
   "metadata": {
    "scrolled": false
   },
   "outputs": [
    {
     "data": {
      "text/html": [
       "<div>\n",
       "<style scoped>\n",
       "    .dataframe tbody tr th:only-of-type {\n",
       "        vertical-align: middle;\n",
       "    }\n",
       "\n",
       "    .dataframe tbody tr th {\n",
       "        vertical-align: top;\n",
       "    }\n",
       "\n",
       "    .dataframe thead th {\n",
       "        text-align: right;\n",
       "    }\n",
       "</style>\n",
       "<table border=\"1\" class=\"dataframe\">\n",
       "  <thead>\n",
       "    <tr style=\"text-align: right;\">\n",
       "      <th></th>\n",
       "      <th>id</th>\n",
       "      <th>host_id</th>\n",
       "      <th>host_listings_count</th>\n",
       "      <th>host_total_listings_count</th>\n",
       "      <th>latitude</th>\n",
       "      <th>longitude</th>\n",
       "      <th>minimum_nights</th>\n",
       "      <th>maximum_nights</th>\n",
       "      <th>minimum_minimum_nights</th>\n",
       "      <th>maximum_minimum_nights</th>\n",
       "      <th>minimum_maximum_nights</th>\n",
       "      <th>maximum_maximum_nights</th>\n",
       "      <th>minimum_nights_avg_ntm</th>\n",
       "      <th>maximum_nights_avg_ntm</th>\n",
       "      <th>availability_365</th>\n",
       "      <th>review_scores_rating</th>\n",
       "      <th>review_scores_accuracy</th>\n",
       "      <th>calculated_host_listings_count</th>\n",
       "      <th>calculated_host_listings_count_entire_homes</th>\n",
       "      <th>calculated_host_listings_count_private_rooms</th>\n",
       "      <th>calculated_host_listings_count_shared_rooms</th>\n",
       "    </tr>\n",
       "  </thead>\n",
       "  <tbody>\n",
       "    <tr>\n",
       "      <th>count</th>\n",
       "      <td>1.318200e+04</td>\n",
       "      <td>1.318200e+04</td>\n",
       "      <td>13182.000000</td>\n",
       "      <td>13182.000000</td>\n",
       "      <td>13182.000000</td>\n",
       "      <td>13182.000000</td>\n",
       "      <td>13182.000000</td>\n",
       "      <td>13182.000000</td>\n",
       "      <td>13182.000000</td>\n",
       "      <td>13182.000000</td>\n",
       "      <td>13182.000000</td>\n",
       "      <td>13182.000000</td>\n",
       "      <td>13182.000000</td>\n",
       "      <td>13182.000000</td>\n",
       "      <td>13182.000000</td>\n",
       "      <td>11075.000000</td>\n",
       "      <td>11075.000000</td>\n",
       "      <td>13182.000000</td>\n",
       "      <td>13182.000000</td>\n",
       "      <td>13182.000000</td>\n",
       "      <td>13182.000000</td>\n",
       "    </tr>\n",
       "    <tr>\n",
       "      <th>mean</th>\n",
       "      <td>3.954590e+17</td>\n",
       "      <td>2.166796e+08</td>\n",
       "      <td>20.644895</td>\n",
       "      <td>32.083447</td>\n",
       "      <td>37.980172</td>\n",
       "      <td>23.731728</td>\n",
       "      <td>3.151267</td>\n",
       "      <td>571.466925</td>\n",
       "      <td>3.197390</td>\n",
       "      <td>4.595812</td>\n",
       "      <td>757.426567</td>\n",
       "      <td>781.464421</td>\n",
       "      <td>4.157988</td>\n",
       "      <td>767.141405</td>\n",
       "      <td>222.418146</td>\n",
       "      <td>4.737552</td>\n",
       "      <td>4.783382</td>\n",
       "      <td>12.034441</td>\n",
       "      <td>10.849416</td>\n",
       "      <td>1.031027</td>\n",
       "      <td>0.071082</td>\n",
       "    </tr>\n",
       "    <tr>\n",
       "      <th>std</th>\n",
       "      <td>4.270628e+17</td>\n",
       "      <td>1.732957e+08</td>\n",
       "      <td>61.423587</td>\n",
       "      <td>136.062916</td>\n",
       "      <td>0.013427</td>\n",
       "      <td>0.012480</td>\n",
       "      <td>16.231489</td>\n",
       "      <td>457.941252</td>\n",
       "      <td>18.416376</td>\n",
       "      <td>26.587753</td>\n",
       "      <td>449.324853</td>\n",
       "      <td>437.633288</td>\n",
       "      <td>24.276247</td>\n",
       "      <td>440.906213</td>\n",
       "      <td>136.667965</td>\n",
       "      <td>0.431216</td>\n",
       "      <td>0.394101</td>\n",
       "      <td>19.431829</td>\n",
       "      <td>18.978576</td>\n",
       "      <td>4.439618</td>\n",
       "      <td>0.850407</td>\n",
       "    </tr>\n",
       "    <tr>\n",
       "      <th>min</th>\n",
       "      <td>1.059500e+04</td>\n",
       "      <td>1.805000e+03</td>\n",
       "      <td>1.000000</td>\n",
       "      <td>1.000000</td>\n",
       "      <td>37.950322</td>\n",
       "      <td>23.697700</td>\n",
       "      <td>1.000000</td>\n",
       "      <td>1.000000</td>\n",
       "      <td>1.000000</td>\n",
       "      <td>1.000000</td>\n",
       "      <td>1.000000</td>\n",
       "      <td>1.000000</td>\n",
       "      <td>1.000000</td>\n",
       "      <td>1.000000</td>\n",
       "      <td>0.000000</td>\n",
       "      <td>1.000000</td>\n",
       "      <td>1.000000</td>\n",
       "      <td>1.000000</td>\n",
       "      <td>0.000000</td>\n",
       "      <td>0.000000</td>\n",
       "      <td>0.000000</td>\n",
       "    </tr>\n",
       "    <tr>\n",
       "      <th>25%</th>\n",
       "      <td>3.166800e+07</td>\n",
       "      <td>6.022029e+07</td>\n",
       "      <td>1.000000</td>\n",
       "      <td>2.000000</td>\n",
       "      <td>37.969140</td>\n",
       "      <td>23.723970</td>\n",
       "      <td>1.000000</td>\n",
       "      <td>90.000000</td>\n",
       "      <td>1.000000</td>\n",
       "      <td>1.000000</td>\n",
       "      <td>365.000000</td>\n",
       "      <td>365.000000</td>\n",
       "      <td>1.000000</td>\n",
       "      <td>365.000000</td>\n",
       "      <td>88.000000</td>\n",
       "      <td>4.680000</td>\n",
       "      <td>4.750000</td>\n",
       "      <td>1.000000</td>\n",
       "      <td>1.000000</td>\n",
       "      <td>0.000000</td>\n",
       "      <td>0.000000</td>\n",
       "    </tr>\n",
       "    <tr>\n",
       "      <th>50%</th>\n",
       "      <td>5.312285e+07</td>\n",
       "      <td>1.821563e+08</td>\n",
       "      <td>5.000000</td>\n",
       "      <td>6.000000</td>\n",
       "      <td>37.978573</td>\n",
       "      <td>23.729719</td>\n",
       "      <td>2.000000</td>\n",
       "      <td>365.000000</td>\n",
       "      <td>2.000000</td>\n",
       "      <td>2.000000</td>\n",
       "      <td>1125.000000</td>\n",
       "      <td>1125.000000</td>\n",
       "      <td>2.000000</td>\n",
       "      <td>1125.000000</td>\n",
       "      <td>268.000000</td>\n",
       "      <td>4.860000</td>\n",
       "      <td>4.890000</td>\n",
       "      <td>4.000000</td>\n",
       "      <td>3.000000</td>\n",
       "      <td>0.000000</td>\n",
       "      <td>0.000000</td>\n",
       "    </tr>\n",
       "    <tr>\n",
       "      <th>75%</th>\n",
       "      <td>8.516889e+17</td>\n",
       "      <td>3.696750e+08</td>\n",
       "      <td>20.000000</td>\n",
       "      <td>23.000000</td>\n",
       "      <td>37.988298</td>\n",
       "      <td>23.737657</td>\n",
       "      <td>2.000000</td>\n",
       "      <td>1125.000000</td>\n",
       "      <td>2.000000</td>\n",
       "      <td>3.000000</td>\n",
       "      <td>1125.000000</td>\n",
       "      <td>1125.000000</td>\n",
       "      <td>2.300000</td>\n",
       "      <td>1125.000000</td>\n",
       "      <td>348.000000</td>\n",
       "      <td>4.980000</td>\n",
       "      <td>5.000000</td>\n",
       "      <td>14.000000</td>\n",
       "      <td>12.000000</td>\n",
       "      <td>0.000000</td>\n",
       "      <td>0.000000</td>\n",
       "    </tr>\n",
       "    <tr>\n",
       "      <th>max</th>\n",
       "      <td>1.052831e+18</td>\n",
       "      <td>5.516695e+08</td>\n",
       "      <td>2444.000000</td>\n",
       "      <td>5529.000000</td>\n",
       "      <td>38.030830</td>\n",
       "      <td>23.780220</td>\n",
       "      <td>800.000000</td>\n",
       "      <td>4444.000000</td>\n",
       "      <td>800.000000</td>\n",
       "      <td>1000.000000</td>\n",
       "      <td>4444.000000</td>\n",
       "      <td>4444.000000</td>\n",
       "      <td>800.000000</td>\n",
       "      <td>4444.000000</td>\n",
       "      <td>365.000000</td>\n",
       "      <td>5.000000</td>\n",
       "      <td>5.000000</td>\n",
       "      <td>121.000000</td>\n",
       "      <td>121.000000</td>\n",
       "      <td>44.000000</td>\n",
       "      <td>15.000000</td>\n",
       "    </tr>\n",
       "  </tbody>\n",
       "</table>\n",
       "</div>"
      ],
      "text/plain": [
       "                 id       host_id  host_listings_count   \n",
       "count  1.318200e+04  1.318200e+04         13182.000000  \\\n",
       "mean   3.954590e+17  2.166796e+08            20.644895   \n",
       "std    4.270628e+17  1.732957e+08            61.423587   \n",
       "min    1.059500e+04  1.805000e+03             1.000000   \n",
       "25%    3.166800e+07  6.022029e+07             1.000000   \n",
       "50%    5.312285e+07  1.821563e+08             5.000000   \n",
       "75%    8.516889e+17  3.696750e+08            20.000000   \n",
       "max    1.052831e+18  5.516695e+08          2444.000000   \n",
       "\n",
       "       host_total_listings_count      latitude     longitude  minimum_nights   \n",
       "count               13182.000000  13182.000000  13182.000000    13182.000000  \\\n",
       "mean                   32.083447     37.980172     23.731728        3.151267   \n",
       "std                   136.062916      0.013427      0.012480       16.231489   \n",
       "min                     1.000000     37.950322     23.697700        1.000000   \n",
       "25%                     2.000000     37.969140     23.723970        1.000000   \n",
       "50%                     6.000000     37.978573     23.729719        2.000000   \n",
       "75%                    23.000000     37.988298     23.737657        2.000000   \n",
       "max                  5529.000000     38.030830     23.780220      800.000000   \n",
       "\n",
       "       maximum_nights  minimum_minimum_nights  maximum_minimum_nights   \n",
       "count    13182.000000            13182.000000            13182.000000  \\\n",
       "mean       571.466925                3.197390                4.595812   \n",
       "std        457.941252               18.416376               26.587753   \n",
       "min          1.000000                1.000000                1.000000   \n",
       "25%         90.000000                1.000000                1.000000   \n",
       "50%        365.000000                2.000000                2.000000   \n",
       "75%       1125.000000                2.000000                3.000000   \n",
       "max       4444.000000              800.000000             1000.000000   \n",
       "\n",
       "       minimum_maximum_nights  maximum_maximum_nights  minimum_nights_avg_ntm   \n",
       "count            13182.000000            13182.000000            13182.000000  \\\n",
       "mean               757.426567              781.464421                4.157988   \n",
       "std                449.324853              437.633288               24.276247   \n",
       "min                  1.000000                1.000000                1.000000   \n",
       "25%                365.000000              365.000000                1.000000   \n",
       "50%               1125.000000             1125.000000                2.000000   \n",
       "75%               1125.000000             1125.000000                2.300000   \n",
       "max               4444.000000             4444.000000              800.000000   \n",
       "\n",
       "       maximum_nights_avg_ntm  availability_365  review_scores_rating   \n",
       "count            13182.000000      13182.000000          11075.000000  \\\n",
       "mean               767.141405        222.418146              4.737552   \n",
       "std                440.906213        136.667965              0.431216   \n",
       "min                  1.000000          0.000000              1.000000   \n",
       "25%                365.000000         88.000000              4.680000   \n",
       "50%               1125.000000        268.000000              4.860000   \n",
       "75%               1125.000000        348.000000              4.980000   \n",
       "max               4444.000000        365.000000              5.000000   \n",
       "\n",
       "       review_scores_accuracy  calculated_host_listings_count   \n",
       "count            11075.000000                    13182.000000  \\\n",
       "mean                 4.783382                       12.034441   \n",
       "std                  0.394101                       19.431829   \n",
       "min                  1.000000                        1.000000   \n",
       "25%                  4.750000                        1.000000   \n",
       "50%                  4.890000                        4.000000   \n",
       "75%                  5.000000                       14.000000   \n",
       "max                  5.000000                      121.000000   \n",
       "\n",
       "       calculated_host_listings_count_entire_homes   \n",
       "count                                 13182.000000  \\\n",
       "mean                                     10.849416   \n",
       "std                                      18.978576   \n",
       "min                                       0.000000   \n",
       "25%                                       1.000000   \n",
       "50%                                       3.000000   \n",
       "75%                                      12.000000   \n",
       "max                                     121.000000   \n",
       "\n",
       "       calculated_host_listings_count_private_rooms   \n",
       "count                                  13182.000000  \\\n",
       "mean                                       1.031027   \n",
       "std                                        4.439618   \n",
       "min                                        0.000000   \n",
       "25%                                        0.000000   \n",
       "50%                                        0.000000   \n",
       "75%                                        0.000000   \n",
       "max                                       44.000000   \n",
       "\n",
       "       calculated_host_listings_count_shared_rooms  \n",
       "count                                 13182.000000  \n",
       "mean                                      0.071082  \n",
       "std                                       0.850407  \n",
       "min                                       0.000000  \n",
       "25%                                       0.000000  \n",
       "50%                                       0.000000  \n",
       "75%                                       0.000000  \n",
       "max                                      15.000000  "
      ]
     },
     "execution_count": 6,
     "metadata": {},
     "output_type": "execute_result"
    }
   ],
   "source": [
    "df.describe()"
   ]
  },
  {
   "cell_type": "markdown",
   "id": "84b87a86",
   "metadata": {},
   "source": [
    "# Questions"
   ]
  },
  {
   "cell_type": "markdown",
   "id": "11472ce4",
   "metadata": {},
   "source": [
    "### How many hosts have more than two listings?"
   ]
  },
  {
   "cell_type": "markdown",
   "id": "54bd38a9",
   "metadata": {},
   "source": [
    "We need only the cases where a host povides an entire home. Hotel rooms are not included in this part of the analysis as we consider them to not take part in the multi-owning aspect. (They will be used in the map in order to see how much of Athens is taken up by enterprise-styled places.) "
   ]
  },
  {
   "cell_type": "markdown",
   "id": "fae73a65",
   "metadata": {},
   "source": [
    "\"Rooms are great for guests who prefer a little privacy, yet still want to meet someone new and experience the area like a local. With a room, guests will have their own bedroom in a home, plus access to spaces that may be shared with others. For example, guests might walk through indoor spaces that another person may be sharing in order to get to their room.\n",
    "\n",
    "What is required to be displayed as a Room to guests?\n",
    "To be eligible to be displayed to guests as a room on Airbnb – for example, in search, in the Rooms category, on your listing page and otherwise – a listing should meet the following requirements:\n",
    "\n",
    "The space listed is a bedroom, with a door, that is intended to be exclusively used by the guest during their stay\n",
    "The guest shares access to at least one or more of the following common spaces: bathroom, kitchen, or living room\"\n"
   ]
  },
  {
   "cell_type": "code",
   "execution_count": 7,
   "id": "ddbfc2e7",
   "metadata": {},
   "outputs": [],
   "source": [
    "# keeping only the entire rooms\n",
    "ent_room=df[df.room_type.str.contains('Entire',case=False)].copy().reset_index()\n",
    "listing = pd.DataFrame(ent_room.host_id.value_counts(ascending=False)).copy().reset_index()"
   ]
  },
  {
   "cell_type": "code",
   "execution_count": 8,
   "id": "b7332f3d",
   "metadata": {},
   "outputs": [],
   "source": [
    "# categorizing how many properties each host has \n",
    "# based on the greek legislation, from 3 and up the categorization changes\n",
    "for i,item in listing.iterrows():\n",
    "    if item['count'] >= 3:\n",
    "        listing.at[i, 'many_properties'] = 'true' \n",
    "        \n",
    "    else:\n",
    "        listing.at[i, 'many_properties'] = 'false' "
   ]
  },
  {
   "cell_type": "code",
   "execution_count": 9,
   "id": "c6b79929",
   "metadata": {},
   "outputs": [
    {
     "data": {
      "text/plain": [
       "many_properties\n",
       "false    85.806567\n",
       "true     14.193433\n",
       "Name: proportion, dtype: float64"
      ]
     },
     "execution_count": 9,
     "metadata": {},
     "output_type": "execute_result"
    }
   ],
   "source": [
    "# what precentage of the hosts have than 2 properties?\n",
    "listing['many_properties'].value_counts(normalize=True)*100"
   ]
  },
  {
   "cell_type": "markdown",
   "id": "8af96940",
   "metadata": {},
   "source": [
    "Let's compare this precentage with what Airbnb says it is the total listings of the host. Airbnb does not make a differantiation of the places so it can be rooms, entire places etc. "
   ]
  },
  {
   "cell_type": "code",
   "execution_count": 10,
   "id": "0dec8760",
   "metadata": {},
   "outputs": [],
   "source": [
    "airbnb = df[['host_id', 'host_listings_count']].copy()"
   ]
  },
  {
   "cell_type": "code",
   "execution_count": 11,
   "id": "f7eafac5",
   "metadata": {},
   "outputs": [],
   "source": [
    "for i,item in airbnb.iterrows():\n",
    "    if item['host_listings_count'] >= 3:\n",
    "       \n",
    "        airbnb.at[i, 'many_properties'] = 'true'\n",
    "    else:\n",
    "        airbnb.at[i, 'many_properties'] = 'false' "
   ]
  },
  {
   "cell_type": "code",
   "execution_count": 12,
   "id": "ba6ff3f6",
   "metadata": {
    "scrolled": true
   },
   "outputs": [
    {
     "data": {
      "text/plain": [
       "many_properties\n",
       "true     63.321196\n",
       "false    36.678804\n",
       "Name: proportion, dtype: float64"
      ]
     },
     "execution_count": 12,
     "metadata": {},
     "output_type": "execute_result"
    }
   ],
   "source": [
    "airbnb['many_properties'].value_counts(normalize=True)*100"
   ]
  },
  {
   "cell_type": "markdown",
   "id": "eaaeb6ef",
   "metadata": {},
   "source": [
    "The percentage is  four times higher but it is not very safe to use for the analysis. We can keep it in mind. <br>\n",
    "What does it mean though? That there is a great possibility these people or enterprises own places in other cities that are not visible in the present dataset."
   ]
  },
  {
   "cell_type": "markdown",
   "id": "bbdd387a",
   "metadata": {},
   "source": [
    "### Let's check in what areas we can see most of these listings."
   ]
  },
  {
   "cell_type": "code",
   "execution_count": 56,
   "id": "39bbfa96",
   "metadata": {},
   "outputs": [
    {
     "data": {
      "text/plain": [
       "5573"
      ]
     },
     "execution_count": 56,
     "metadata": {},
     "output_type": "execute_result"
    }
   ],
   "source": [
    "len(listing)"
   ]
  },
  {
   "cell_type": "code",
   "execution_count": 13,
   "id": "3bba9839",
   "metadata": {},
   "outputs": [
    {
     "data": {
      "text/plain": [
       "pandas.core.series.Series"
      ]
     },
     "execution_count": 13,
     "metadata": {},
     "output_type": "execute_result"
    }
   ],
   "source": [
    "# keeping only the values that are true and using it to identify these hosts in the general dataset\n",
    "type(listing[listing.many_properties.str.contains('true')].host_id)"
   ]
  },
  {
   "cell_type": "code",
   "execution_count": 14,
   "id": "f0c938e3",
   "metadata": {
    "scrolled": true
   },
   "outputs": [],
   "source": [
    "# this is a series, we need to turn it in a list\n",
    "true_codes=listing[listing.many_properties.str.contains('true')].host_id.to_list()"
   ]
  },
  {
   "cell_type": "code",
   "execution_count": 15,
   "id": "7806691e",
   "metadata": {},
   "outputs": [
    {
     "data": {
      "text/plain": [
       "791"
      ]
     },
     "execution_count": 15,
     "metadata": {},
     "output_type": "execute_result"
    }
   ],
   "source": [
    "len(true_codes)"
   ]
  },
  {
   "cell_type": "code",
   "execution_count": 16,
   "id": "5973d9d6",
   "metadata": {
    "scrolled": true
   },
   "outputs": [],
   "source": [
    "# making a dataset that keeps the rows with the true values and one with the false\n",
    "result_multiple = []\n",
    "result_single = []\n",
    "\n",
    "for i, item in df.iterrows():\n",
    "    if item['host_id'] in true_codes:\n",
    "        multi = df.iloc[i]\n",
    "        result_multiple.append(multi)\n",
    "        \n",
    "    else:\n",
    "        non_multi = df.iloc[i]\n",
    "        result_single.append(non_multi)\n",
    "        \n",
    "hosts_multiple=pd.DataFrame(result_multiple).copy().reset_index().drop(['index'],axis=1)\n",
    "hosts_single=pd.DataFrame(result_single).copy().reset_index().drop(['index'],axis=1)"
   ]
  },
  {
   "cell_type": "code",
   "execution_count": 17,
   "id": "f83cfa71",
   "metadata": {},
   "outputs": [
    {
     "data": {
      "text/plain": [
       "6691"
      ]
     },
     "execution_count": 17,
     "metadata": {},
     "output_type": "execute_result"
    }
   ],
   "source": [
    "len(hosts_multiple)"
   ]
  },
  {
   "cell_type": "code",
   "execution_count": 20,
   "id": "8c4fd0b9",
   "metadata": {
    "scrolled": true
   },
   "outputs": [],
   "source": [
    "# in which neighbourhoods do we see more airbnb businesses\n",
    "hm=hosts_multiple['neighbourhood_cleansed'].value_counts()\n",
    "hm=pd.DataFrame(hm).reset_index()"
   ]
  },
  {
   "cell_type": "code",
   "execution_count": 18,
   "id": "963a17a8",
   "metadata": {},
   "outputs": [
    {
     "data": {
      "text/plain": [
       "6491"
      ]
     },
     "execution_count": 18,
     "metadata": {},
     "output_type": "execute_result"
    }
   ],
   "source": [
    "len(hosts_single)"
   ]
  },
  {
   "cell_type": "code",
   "execution_count": 19,
   "id": "5ac19ab4",
   "metadata": {
    "scrolled": true
   },
   "outputs": [],
   "source": [
    "# same for all the \"under 2\"\n",
    "hs=hosts_single['neighbourhood_cleansed'].value_counts()\n",
    "hs=pd.DataFrame(hs).reset_index()"
   ]
  },
  {
   "cell_type": "code",
   "execution_count": 46,
   "id": "5bd05262",
   "metadata": {
    "scrolled": true
   },
   "outputs": [],
   "source": [
    "# hs.merge(hm,on=\"neighbourhood_cleansed\",how=\"outer\").copy()"
   ]
  },
  {
   "cell_type": "markdown",
   "id": "e3e1f379",
   "metadata": {},
   "source": [
    "#### Question: <br>Does this mean that more houses in central Athens are owned by business like hosts than owned by non-business hosts?\n",
    "Even though we see a smaller number of hosts having businesses, they do own more houses than the non businesses do. Of course that makes sense, because the do own more houses by definition. Does that mean a few people own most of the houses in Athens... Is that a strech of a conclusion?"
   ]
  },
  {
   "cell_type": "markdown",
   "id": "d5f8a902",
   "metadata": {},
   "source": [
    "### These are the areas with the precentage of listings"
   ]
  },
  {
   "cell_type": "code",
   "execution_count": 45,
   "id": "f188d89c",
   "metadata": {
    "scrolled": true
   },
   "outputs": [
    {
     "data": {
      "text/plain": [
       "neighbourhood_cleansed\n",
       "ΕΜΠΟΡΙΚΟ ΤΡΙΓΩΝΟ-ΠΛΑΚΑ              23.748319\n",
       "ΚΟΥΚΑΚΙ-ΜΑΚΡΥΓΙΑΝΝΗ                  9.804215\n",
       "ΝΕΟΣ ΚΟΣΜΟΣ                          7.487670\n",
       "ΜΟΥΣΕΙΟ-ΕΞΑΡΧΕΙΑ-ΝΕΑΠΟΛΗ             7.263488\n",
       "ΑΓΙΟΣ ΚΩΝΣΤΑΝΤΙΝΟΣ-ΠΛΑΤΕΙΑ ΒΑΘΗΣ     6.321925\n",
       "ΠΛΑΤΕΙΑ ΑΤΤΙΚΗΣ                      4.289344\n",
       "ΠΑΓΚΡΑΤΙ                             3.826035\n",
       "ΑΜΠΕΛΟΚΗΠΟΙ                          3.018981\n",
       "ΑΚΡΟΠΟΛΗ                             2.944253\n",
       "ΚΕΡΑΜΕΙΚΟΣ                           2.929308\n",
       "ΚΟΛΩΝΑΚΙ                             2.914363\n",
       "ΘΗΣΕΙΟ                               2.899417\n",
       "ΠΕΤΡΑΛΩΝΑ                            2.660290\n",
       "ΖΑΠΠΕΙΟ                              1.987745\n",
       "ΣΤΑΔΙΟ                               1.763563\n",
       "ΚΥΨΕΛΗ                               1.673890\n",
       "ΓΟΥΔΙ                                1.643999\n",
       "ΙΛΙΣΙΑ                               1.524436\n",
       "ΝΙΡΒΑΝΑ                              1.255418\n",
       "ΛΥΚΑΒΗΤΤΟΣ                           1.016291\n",
       "ΠΑΤΗΣΙΑ                              0.986400\n",
       "ΓΚΑΖΙ                                0.941563\n",
       "ΠΛΑΤΕΙΑ ΑΜΕΡΙΚΗΣ                     0.866836\n",
       "ΠΕΔΙΟ ΑΡΕΩΣ                          0.747272\n",
       "ΑΝΩ ΚΥΨΕΛΗ                           0.612763\n",
       "ΑΓΙΟΣ ΝΙΚΟΛΑΟΣ                       0.523091\n",
       "ΓΟΥΒΑ                                0.463309\n",
       "ΚΟΛΩΝΟΣ                              0.448363\n",
       "ΓΚΥΖΗ                                0.448363\n",
       "ΣΤΑΘΜΟΣ ΛΑΡΙΣΗΣ                      0.433418\n",
       "ΑΚΑΔΗΜΙΑ ΠΛΑΤΩΝΟΣ                    0.403527\n",
       "ΕΛΛΗΝΟΡΩΣΩΝ                          0.403527\n",
       "1Ο ΝΕΚΡΟΤΑΦΕΙΟ                       0.373636\n",
       "ΒΟΤΑΝΙΚΟΣ                            0.373636\n",
       "ΝΕΑ ΚΥΨΕΛΗ                           0.254073\n",
       "ΣΕΠΟΛΙΑ                              0.224182\n",
       "ΑΓΙΟΣ ΕΛΕΥΘΕΡΙΟΣ                     0.194291\n",
       "ΑΝΩ ΠΑΤΗΣΙΑ                          0.179345\n",
       "ΚΟΛΟΚΥΝΘΟΥ                           0.074727\n",
       "ΠΡΟΜΠΟΝΑ                             0.029891\n",
       "ΠΟΛΥΓΩΝΟ                             0.029891\n",
       "ΡΙΖΟΥΠΟΛΗ                            0.014945\n",
       "Name: proportion, dtype: float64"
      ]
     },
     "execution_count": 45,
     "metadata": {},
     "output_type": "execute_result"
    }
   ],
   "source": [
    "hosts_multiple['neighbourhood_cleansed'].value_counts(normalize=True)*100"
   ]
  },
  {
   "cell_type": "markdown",
   "id": "ebf31bb0",
   "metadata": {},
   "source": [
    "### Let's see the average price per night per area"
   ]
  },
  {
   "cell_type": "code",
   "execution_count": 48,
   "id": "7f56b162",
   "metadata": {
    "scrolled": true
   },
   "outputs": [],
   "source": [
    "# prices must be cleaned and integered\n",
    "hosts_multiple['price_clean'] = hosts_multiple['price'].str.replace('$', '').str.replace(',', '').astype(float)"
   ]
  },
  {
   "cell_type": "code",
   "execution_count": 49,
   "id": "6265b38f",
   "metadata": {},
   "outputs": [
    {
     "data": {
      "text/plain": [
       "119.98799574532745"
      ]
     },
     "execution_count": 49,
     "metadata": {},
     "output_type": "execute_result"
    }
   ],
   "source": [
    "hosts_multiple.price_clean.mean()"
   ]
  },
  {
   "cell_type": "code",
   "execution_count": 50,
   "id": "41f07180",
   "metadata": {},
   "outputs": [
    {
     "data": {
      "text/plain": [
       "72.0"
      ]
     },
     "execution_count": 50,
     "metadata": {},
     "output_type": "execute_result"
    }
   ],
   "source": [
    "hosts_multiple.price_clean.median()"
   ]
  },
  {
   "cell_type": "code",
   "execution_count": 51,
   "id": "96ea2434",
   "metadata": {
    "scrolled": true
   },
   "outputs": [
    {
     "data": {
      "text/html": [
       "<div>\n",
       "<style scoped>\n",
       "    .dataframe tbody tr th:only-of-type {\n",
       "        vertical-align: middle;\n",
       "    }\n",
       "\n",
       "    .dataframe tbody tr th {\n",
       "        vertical-align: top;\n",
       "    }\n",
       "\n",
       "    .dataframe thead th {\n",
       "        text-align: right;\n",
       "    }\n",
       "</style>\n",
       "<table border=\"1\" class=\"dataframe\">\n",
       "  <thead>\n",
       "    <tr style=\"text-align: right;\">\n",
       "      <th></th>\n",
       "      <th>neighbourhood_cleansed</th>\n",
       "      <th>price_clean</th>\n",
       "    </tr>\n",
       "  </thead>\n",
       "  <tbody>\n",
       "    <tr>\n",
       "      <th>5</th>\n",
       "      <td>ΑΚΡΟΠΟΛΗ</td>\n",
       "      <td>271.0</td>\n",
       "    </tr>\n",
       "    <tr>\n",
       "      <th>26</th>\n",
       "      <td>ΜΟΥΣΕΙΟ-ΕΞΑΡΧΕΙΑ-ΝΕΑΠΟΛΗ</td>\n",
       "      <td>254.0</td>\n",
       "    </tr>\n",
       "    <tr>\n",
       "      <th>16</th>\n",
       "      <td>ΖΑΠΠΕΙΟ</td>\n",
       "      <td>244.0</td>\n",
       "    </tr>\n",
       "    <tr>\n",
       "      <th>36</th>\n",
       "      <td>ΠΟΛΥΓΩΝΟ</td>\n",
       "      <td>134.0</td>\n",
       "    </tr>\n",
       "    <tr>\n",
       "      <th>21</th>\n",
       "      <td>ΚΟΛΩΝΑΚΙ</td>\n",
       "      <td>132.0</td>\n",
       "    </tr>\n",
       "    <tr>\n",
       "      <th>15</th>\n",
       "      <td>ΕΜΠΟΡΙΚΟ ΤΡΙΓΩΝΟ-ΠΛΑΚΑ</td>\n",
       "      <td>128.0</td>\n",
       "    </tr>\n",
       "    <tr>\n",
       "      <th>0</th>\n",
       "      <td>1Ο ΝΕΚΡΟΤΑΦΕΙΟ</td>\n",
       "      <td>123.0</td>\n",
       "    </tr>\n",
       "    <tr>\n",
       "      <th>23</th>\n",
       "      <td>ΚΟΥΚΑΚΙ-ΜΑΚΡΥΓΙΑΝΝΗ</td>\n",
       "      <td>121.0</td>\n",
       "    </tr>\n",
       "    <tr>\n",
       "      <th>17</th>\n",
       "      <td>ΘΗΣΕΙΟ</td>\n",
       "      <td>116.0</td>\n",
       "    </tr>\n",
       "    <tr>\n",
       "      <th>19</th>\n",
       "      <td>ΚΕΡΑΜΕΙΚΟΣ</td>\n",
       "      <td>115.0</td>\n",
       "    </tr>\n",
       "    <tr>\n",
       "      <th>35</th>\n",
       "      <td>ΠΛΑΤΕΙΑ ΑΤΤΙΚΗΣ</td>\n",
       "      <td>101.0</td>\n",
       "    </tr>\n",
       "    <tr>\n",
       "      <th>38</th>\n",
       "      <td>ΡΙΖΟΥΠΟΛΗ</td>\n",
       "      <td>100.0</td>\n",
       "    </tr>\n",
       "    <tr>\n",
       "      <th>14</th>\n",
       "      <td>ΕΛΛΗΝΟΡΩΣΩΝ</td>\n",
       "      <td>97.0</td>\n",
       "    </tr>\n",
       "    <tr>\n",
       "      <th>18</th>\n",
       "      <td>ΙΛΙΣΙΑ</td>\n",
       "      <td>97.0</td>\n",
       "    </tr>\n",
       "    <tr>\n",
       "      <th>30</th>\n",
       "      <td>ΠΑΓΚΡΑΤΙ</td>\n",
       "      <td>94.0</td>\n",
       "    </tr>\n",
       "    <tr>\n",
       "      <th>40</th>\n",
       "      <td>ΣΤΑΔΙΟ</td>\n",
       "      <td>93.0</td>\n",
       "    </tr>\n",
       "    <tr>\n",
       "      <th>32</th>\n",
       "      <td>ΠΕΔΙΟ ΑΡΕΩΣ</td>\n",
       "      <td>92.0</td>\n",
       "    </tr>\n",
       "    <tr>\n",
       "      <th>28</th>\n",
       "      <td>ΝΕΟΣ ΚΟΣΜΟΣ</td>\n",
       "      <td>89.0</td>\n",
       "    </tr>\n",
       "    <tr>\n",
       "      <th>9</th>\n",
       "      <td>ΒΟΤΑΝΙΚΟΣ</td>\n",
       "      <td>88.0</td>\n",
       "    </tr>\n",
       "    <tr>\n",
       "      <th>25</th>\n",
       "      <td>ΛΥΚΑΒΗΤΤΟΣ</td>\n",
       "      <td>88.0</td>\n",
       "    </tr>\n",
       "    <tr>\n",
       "      <th>39</th>\n",
       "      <td>ΣΕΠΟΛΙΑ</td>\n",
       "      <td>86.0</td>\n",
       "    </tr>\n",
       "    <tr>\n",
       "      <th>10</th>\n",
       "      <td>ΓΚΑΖΙ</td>\n",
       "      <td>82.0</td>\n",
       "    </tr>\n",
       "    <tr>\n",
       "      <th>33</th>\n",
       "      <td>ΠΕΤΡΑΛΩΝΑ</td>\n",
       "      <td>78.0</td>\n",
       "    </tr>\n",
       "    <tr>\n",
       "      <th>24</th>\n",
       "      <td>ΚΥΨΕΛΗ</td>\n",
       "      <td>77.0</td>\n",
       "    </tr>\n",
       "    <tr>\n",
       "      <th>6</th>\n",
       "      <td>ΑΜΠΕΛΟΚΗΠΟΙ</td>\n",
       "      <td>73.0</td>\n",
       "    </tr>\n",
       "    <tr>\n",
       "      <th>1</th>\n",
       "      <td>ΑΓΙΟΣ ΕΛΕΥΘΕΡΙΟΣ</td>\n",
       "      <td>66.0</td>\n",
       "    </tr>\n",
       "    <tr>\n",
       "      <th>13</th>\n",
       "      <td>ΓΟΥΔΙ</td>\n",
       "      <td>65.0</td>\n",
       "    </tr>\n",
       "    <tr>\n",
       "      <th>41</th>\n",
       "      <td>ΣΤΑΘΜΟΣ ΛΑΡΙΣΗΣ</td>\n",
       "      <td>63.0</td>\n",
       "    </tr>\n",
       "    <tr>\n",
       "      <th>12</th>\n",
       "      <td>ΓΟΥΒΑ</td>\n",
       "      <td>63.0</td>\n",
       "    </tr>\n",
       "    <tr>\n",
       "      <th>37</th>\n",
       "      <td>ΠΡΟΜΠΟΝΑ</td>\n",
       "      <td>62.0</td>\n",
       "    </tr>\n",
       "    <tr>\n",
       "      <th>34</th>\n",
       "      <td>ΠΛΑΤΕΙΑ ΑΜΕΡΙΚΗΣ</td>\n",
       "      <td>61.0</td>\n",
       "    </tr>\n",
       "    <tr>\n",
       "      <th>22</th>\n",
       "      <td>ΚΟΛΩΝΟΣ</td>\n",
       "      <td>59.0</td>\n",
       "    </tr>\n",
       "    <tr>\n",
       "      <th>2</th>\n",
       "      <td>ΑΓΙΟΣ ΚΩΝΣΤΑΝΤΙΝΟΣ-ΠΛΑΤΕΙΑ ΒΑΘΗΣ</td>\n",
       "      <td>59.0</td>\n",
       "    </tr>\n",
       "    <tr>\n",
       "      <th>3</th>\n",
       "      <td>ΑΓΙΟΣ ΝΙΚΟΛΑΟΣ</td>\n",
       "      <td>55.0</td>\n",
       "    </tr>\n",
       "    <tr>\n",
       "      <th>8</th>\n",
       "      <td>ΑΝΩ ΠΑΤΗΣΙΑ</td>\n",
       "      <td>55.0</td>\n",
       "    </tr>\n",
       "    <tr>\n",
       "      <th>27</th>\n",
       "      <td>ΝΕΑ ΚΥΨΕΛΗ</td>\n",
       "      <td>54.0</td>\n",
       "    </tr>\n",
       "    <tr>\n",
       "      <th>31</th>\n",
       "      <td>ΠΑΤΗΣΙΑ</td>\n",
       "      <td>52.0</td>\n",
       "    </tr>\n",
       "    <tr>\n",
       "      <th>29</th>\n",
       "      <td>ΝΙΡΒΑΝΑ</td>\n",
       "      <td>51.0</td>\n",
       "    </tr>\n",
       "    <tr>\n",
       "      <th>7</th>\n",
       "      <td>ΑΝΩ ΚΥΨΕΛΗ</td>\n",
       "      <td>46.0</td>\n",
       "    </tr>\n",
       "    <tr>\n",
       "      <th>4</th>\n",
       "      <td>ΑΚΑΔΗΜΙΑ ΠΛΑΤΩΝΟΣ</td>\n",
       "      <td>45.0</td>\n",
       "    </tr>\n",
       "    <tr>\n",
       "      <th>20</th>\n",
       "      <td>ΚΟΛΟΚΥΝΘΟΥ</td>\n",
       "      <td>44.0</td>\n",
       "    </tr>\n",
       "    <tr>\n",
       "      <th>11</th>\n",
       "      <td>ΓΚΥΖΗ</td>\n",
       "      <td>44.0</td>\n",
       "    </tr>\n",
       "  </tbody>\n",
       "</table>\n",
       "</div>"
      ],
      "text/plain": [
       "              neighbourhood_cleansed  price_clean\n",
       "5                           ΑΚΡΟΠΟΛΗ        271.0\n",
       "26          ΜΟΥΣΕΙΟ-ΕΞΑΡΧΕΙΑ-ΝΕΑΠΟΛΗ        254.0\n",
       "16                           ΖΑΠΠΕΙΟ        244.0\n",
       "36                          ΠΟΛΥΓΩΝΟ        134.0\n",
       "21                          ΚΟΛΩΝΑΚΙ        132.0\n",
       "15            ΕΜΠΟΡΙΚΟ ΤΡΙΓΩΝΟ-ΠΛΑΚΑ        128.0\n",
       "0                     1Ο ΝΕΚΡΟΤΑΦΕΙΟ        123.0\n",
       "23               ΚΟΥΚΑΚΙ-ΜΑΚΡΥΓΙΑΝΝΗ        121.0\n",
       "17                            ΘΗΣΕΙΟ        116.0\n",
       "19                        ΚΕΡΑΜΕΙΚΟΣ        115.0\n",
       "35                   ΠΛΑΤΕΙΑ ΑΤΤΙΚΗΣ        101.0\n",
       "38                         ΡΙΖΟΥΠΟΛΗ        100.0\n",
       "14                       ΕΛΛΗΝΟΡΩΣΩΝ         97.0\n",
       "18                            ΙΛΙΣΙΑ         97.0\n",
       "30                          ΠΑΓΚΡΑΤΙ         94.0\n",
       "40                            ΣΤΑΔΙΟ         93.0\n",
       "32                       ΠΕΔΙΟ ΑΡΕΩΣ         92.0\n",
       "28                       ΝΕΟΣ ΚΟΣΜΟΣ         89.0\n",
       "9                          ΒΟΤΑΝΙΚΟΣ         88.0\n",
       "25                        ΛΥΚΑΒΗΤΤΟΣ         88.0\n",
       "39                           ΣΕΠΟΛΙΑ         86.0\n",
       "10                             ΓΚΑΖΙ         82.0\n",
       "33                         ΠΕΤΡΑΛΩΝΑ         78.0\n",
       "24                            ΚΥΨΕΛΗ         77.0\n",
       "6                        ΑΜΠΕΛΟΚΗΠΟΙ         73.0\n",
       "1                   ΑΓΙΟΣ ΕΛΕΥΘΕΡΙΟΣ         66.0\n",
       "13                             ΓΟΥΔΙ         65.0\n",
       "41                   ΣΤΑΘΜΟΣ ΛΑΡΙΣΗΣ         63.0\n",
       "12                             ΓΟΥΒΑ         63.0\n",
       "37                          ΠΡΟΜΠΟΝΑ         62.0\n",
       "34                  ΠΛΑΤΕΙΑ ΑΜΕΡΙΚΗΣ         61.0\n",
       "22                           ΚΟΛΩΝΟΣ         59.0\n",
       "2   ΑΓΙΟΣ ΚΩΝΣΤΑΝΤΙΝΟΣ-ΠΛΑΤΕΙΑ ΒΑΘΗΣ         59.0\n",
       "3                     ΑΓΙΟΣ ΝΙΚΟΛΑΟΣ         55.0\n",
       "8                        ΑΝΩ ΠΑΤΗΣΙΑ         55.0\n",
       "27                        ΝΕΑ ΚΥΨΕΛΗ         54.0\n",
       "31                           ΠΑΤΗΣΙΑ         52.0\n",
       "29                           ΝΙΡΒΑΝΑ         51.0\n",
       "7                         ΑΝΩ ΚΥΨΕΛΗ         46.0\n",
       "4                  ΑΚΑΔΗΜΙΑ ΠΛΑΤΩΝΟΣ         45.0\n",
       "20                        ΚΟΛΟΚΥΝΘΟΥ         44.0\n",
       "11                             ΓΚΥΖΗ         44.0"
      ]
     },
     "execution_count": 51,
     "metadata": {},
     "output_type": "execute_result"
    }
   ],
   "source": [
    "# what is the average price per night for each area (multiple listings)?\n",
    "per_area_per_night=hosts_multiple.groupby('neighbourhood_cleansed', as_index=False)['price_clean'].mean().round().sort_values(by='price_clean',ascending=False)\n",
    "per_area_per_night"
   ]
  },
  {
   "cell_type": "markdown",
   "id": "f3456509",
   "metadata": {},
   "source": [
    "### Same process for the ones with less than 3 listings to check the difference in pricing"
   ]
  },
  {
   "cell_type": "code",
   "execution_count": 59,
   "id": "d4a8950e",
   "metadata": {},
   "outputs": [],
   "source": [
    "hosts_single['price_clean'] = hosts_single['price'].str.replace('$', '').str.replace(',', '').astype(float)"
   ]
  },
  {
   "cell_type": "code",
   "execution_count": 60,
   "id": "b541fd10",
   "metadata": {},
   "outputs": [
    {
     "data": {
      "text/plain": [
       "90.17658380112269"
      ]
     },
     "execution_count": 60,
     "metadata": {},
     "output_type": "execute_result"
    }
   ],
   "source": [
    "hosts_single.price_clean.mean()"
   ]
  },
  {
   "cell_type": "code",
   "execution_count": 61,
   "id": "1289c1cc",
   "metadata": {
    "scrolled": true
   },
   "outputs": [
    {
     "data": {
      "text/plain": [
       "60.0"
      ]
     },
     "execution_count": 61,
     "metadata": {},
     "output_type": "execute_result"
    }
   ],
   "source": [
    "hosts_single.price_clean.median()"
   ]
  },
  {
   "cell_type": "code",
   "execution_count": 62,
   "id": "d5c3c7eb",
   "metadata": {
    "scrolled": true
   },
   "outputs": [
    {
     "data": {
      "text/html": [
       "<div>\n",
       "<style scoped>\n",
       "    .dataframe tbody tr th:only-of-type {\n",
       "        vertical-align: middle;\n",
       "    }\n",
       "\n",
       "    .dataframe tbody tr th {\n",
       "        vertical-align: top;\n",
       "    }\n",
       "\n",
       "    .dataframe thead th {\n",
       "        text-align: right;\n",
       "    }\n",
       "</style>\n",
       "<table border=\"1\" class=\"dataframe\">\n",
       "  <thead>\n",
       "    <tr style=\"text-align: right;\">\n",
       "      <th></th>\n",
       "      <th>neighbourhood_cleansed</th>\n",
       "      <th>price_clean</th>\n",
       "    </tr>\n",
       "  </thead>\n",
       "  <tbody>\n",
       "    <tr>\n",
       "      <th>39</th>\n",
       "      <td>ΡΗΓΙΛΛΗΣ</td>\n",
       "      <td>654.0</td>\n",
       "    </tr>\n",
       "    <tr>\n",
       "      <th>9</th>\n",
       "      <td>ΒΟΤΑΝΙΚΟΣ</td>\n",
       "      <td>169.0</td>\n",
       "    </tr>\n",
       "    <tr>\n",
       "      <th>42</th>\n",
       "      <td>ΣΤΑΔΙΟ</td>\n",
       "      <td>141.0</td>\n",
       "    </tr>\n",
       "    <tr>\n",
       "      <th>15</th>\n",
       "      <td>ΕΜΠΟΡΙΚΟ ΤΡΙΓΩΝΟ-ΠΛΑΚΑ</td>\n",
       "      <td>139.0</td>\n",
       "    </tr>\n",
       "    <tr>\n",
       "      <th>19</th>\n",
       "      <td>ΚΕΡΑΜΕΙΚΟΣ</td>\n",
       "      <td>118.0</td>\n",
       "    </tr>\n",
       "    <tr>\n",
       "      <th>21</th>\n",
       "      <td>ΚΟΛΩΝΑΚΙ</td>\n",
       "      <td>117.0</td>\n",
       "    </tr>\n",
       "    <tr>\n",
       "      <th>5</th>\n",
       "      <td>ΑΚΡΟΠΟΛΗ</td>\n",
       "      <td>109.0</td>\n",
       "    </tr>\n",
       "    <tr>\n",
       "      <th>25</th>\n",
       "      <td>ΛΥΚΑΒΗΤΤΟΣ</td>\n",
       "      <td>109.0</td>\n",
       "    </tr>\n",
       "    <tr>\n",
       "      <th>23</th>\n",
       "      <td>ΚΟΥΚΑΚΙ-ΜΑΚΡΥΓΙΑΝΝΗ</td>\n",
       "      <td>101.0</td>\n",
       "    </tr>\n",
       "    <tr>\n",
       "      <th>17</th>\n",
       "      <td>ΘΗΣΕΙΟ</td>\n",
       "      <td>101.0</td>\n",
       "    </tr>\n",
       "    <tr>\n",
       "      <th>16</th>\n",
       "      <td>ΖΑΠΠΕΙΟ</td>\n",
       "      <td>93.0</td>\n",
       "    </tr>\n",
       "    <tr>\n",
       "      <th>26</th>\n",
       "      <td>ΜΟΥΣΕΙΟ-ΕΞΑΡΧΕΙΑ-ΝΕΑΠΟΛΗ</td>\n",
       "      <td>90.0</td>\n",
       "    </tr>\n",
       "    <tr>\n",
       "      <th>34</th>\n",
       "      <td>ΠΕΤΡΑΛΩΝΑ</td>\n",
       "      <td>84.0</td>\n",
       "    </tr>\n",
       "    <tr>\n",
       "      <th>41</th>\n",
       "      <td>ΣΕΠΟΛΙΑ</td>\n",
       "      <td>84.0</td>\n",
       "    </tr>\n",
       "    <tr>\n",
       "      <th>36</th>\n",
       "      <td>ΠΛΑΤΕΙΑ ΑΤΤΙΚΗΣ</td>\n",
       "      <td>83.0</td>\n",
       "    </tr>\n",
       "    <tr>\n",
       "      <th>13</th>\n",
       "      <td>ΓΟΥΔΙ</td>\n",
       "      <td>77.0</td>\n",
       "    </tr>\n",
       "    <tr>\n",
       "      <th>28</th>\n",
       "      <td>ΝΕΟΣ ΚΟΣΜΟΣ</td>\n",
       "      <td>76.0</td>\n",
       "    </tr>\n",
       "    <tr>\n",
       "      <th>30</th>\n",
       "      <td>ΠΑΓΚΡΑΤΙ</td>\n",
       "      <td>75.0</td>\n",
       "    </tr>\n",
       "    <tr>\n",
       "      <th>18</th>\n",
       "      <td>ΙΛΙΣΙΑ</td>\n",
       "      <td>73.0</td>\n",
       "    </tr>\n",
       "    <tr>\n",
       "      <th>10</th>\n",
       "      <td>ΓΚΑΖΙ</td>\n",
       "      <td>71.0</td>\n",
       "    </tr>\n",
       "    <tr>\n",
       "      <th>2</th>\n",
       "      <td>ΑΓΙΟΣ ΚΩΝΣΤΑΝΤΙΝΟΣ-ΠΛΑΤΕΙΑ ΒΑΘΗΣ</td>\n",
       "      <td>70.0</td>\n",
       "    </tr>\n",
       "    <tr>\n",
       "      <th>31</th>\n",
       "      <td>ΠΑΤΗΣΙΑ</td>\n",
       "      <td>65.0</td>\n",
       "    </tr>\n",
       "    <tr>\n",
       "      <th>12</th>\n",
       "      <td>ΓΟΥΒΑ</td>\n",
       "      <td>65.0</td>\n",
       "    </tr>\n",
       "    <tr>\n",
       "      <th>37</th>\n",
       "      <td>ΠΟΛΥΓΩΝΟ</td>\n",
       "      <td>64.0</td>\n",
       "    </tr>\n",
       "    <tr>\n",
       "      <th>6</th>\n",
       "      <td>ΑΜΠΕΛΟΚΗΠΟΙ</td>\n",
       "      <td>62.0</td>\n",
       "    </tr>\n",
       "    <tr>\n",
       "      <th>38</th>\n",
       "      <td>ΠΡΟΜΠΟΝΑ</td>\n",
       "      <td>61.0</td>\n",
       "    </tr>\n",
       "    <tr>\n",
       "      <th>27</th>\n",
       "      <td>ΝΕΑ ΚΥΨΕΛΗ</td>\n",
       "      <td>61.0</td>\n",
       "    </tr>\n",
       "    <tr>\n",
       "      <th>24</th>\n",
       "      <td>ΚΥΨΕΛΗ</td>\n",
       "      <td>58.0</td>\n",
       "    </tr>\n",
       "    <tr>\n",
       "      <th>14</th>\n",
       "      <td>ΕΛΛΗΝΟΡΩΣΩΝ</td>\n",
       "      <td>58.0</td>\n",
       "    </tr>\n",
       "    <tr>\n",
       "      <th>11</th>\n",
       "      <td>ΓΚΥΖΗ</td>\n",
       "      <td>57.0</td>\n",
       "    </tr>\n",
       "    <tr>\n",
       "      <th>8</th>\n",
       "      <td>ΑΝΩ ΠΑΤΗΣΙΑ</td>\n",
       "      <td>56.0</td>\n",
       "    </tr>\n",
       "    <tr>\n",
       "      <th>43</th>\n",
       "      <td>ΣΤΑΘΜΟΣ ΛΑΡΙΣΗΣ</td>\n",
       "      <td>56.0</td>\n",
       "    </tr>\n",
       "    <tr>\n",
       "      <th>0</th>\n",
       "      <td>1Ο ΝΕΚΡΟΤΑΦΕΙΟ</td>\n",
       "      <td>55.0</td>\n",
       "    </tr>\n",
       "    <tr>\n",
       "      <th>4</th>\n",
       "      <td>ΑΚΑΔΗΜΙΑ ΠΛΑΤΩΝΟΣ</td>\n",
       "      <td>55.0</td>\n",
       "    </tr>\n",
       "    <tr>\n",
       "      <th>32</th>\n",
       "      <td>ΠΕΔΙΟ ΑΡΕΩΣ</td>\n",
       "      <td>54.0</td>\n",
       "    </tr>\n",
       "    <tr>\n",
       "      <th>3</th>\n",
       "      <td>ΑΓΙΟΣ ΝΙΚΟΛΑΟΣ</td>\n",
       "      <td>53.0</td>\n",
       "    </tr>\n",
       "    <tr>\n",
       "      <th>22</th>\n",
       "      <td>ΚΟΛΩΝΟΣ</td>\n",
       "      <td>52.0</td>\n",
       "    </tr>\n",
       "    <tr>\n",
       "      <th>35</th>\n",
       "      <td>ΠΛΑΤΕΙΑ ΑΜΕΡΙΚΗΣ</td>\n",
       "      <td>49.0</td>\n",
       "    </tr>\n",
       "    <tr>\n",
       "      <th>40</th>\n",
       "      <td>ΡΙΖΟΥΠΟΛΗ</td>\n",
       "      <td>48.0</td>\n",
       "    </tr>\n",
       "    <tr>\n",
       "      <th>7</th>\n",
       "      <td>ΑΝΩ ΚΥΨΕΛΗ</td>\n",
       "      <td>46.0</td>\n",
       "    </tr>\n",
       "    <tr>\n",
       "      <th>29</th>\n",
       "      <td>ΝΙΡΒΑΝΑ</td>\n",
       "      <td>45.0</td>\n",
       "    </tr>\n",
       "    <tr>\n",
       "      <th>33</th>\n",
       "      <td>ΠΕΝΤΑΓΩΝΟ</td>\n",
       "      <td>44.0</td>\n",
       "    </tr>\n",
       "    <tr>\n",
       "      <th>1</th>\n",
       "      <td>ΑΓΙΟΣ ΕΛΕΥΘΕΡΙΟΣ</td>\n",
       "      <td>42.0</td>\n",
       "    </tr>\n",
       "    <tr>\n",
       "      <th>20</th>\n",
       "      <td>ΚΟΛΟΚΥΝΘΟΥ</td>\n",
       "      <td>39.0</td>\n",
       "    </tr>\n",
       "  </tbody>\n",
       "</table>\n",
       "</div>"
      ],
      "text/plain": [
       "              neighbourhood_cleansed  price_clean\n",
       "39                          ΡΗΓΙΛΛΗΣ        654.0\n",
       "9                          ΒΟΤΑΝΙΚΟΣ        169.0\n",
       "42                            ΣΤΑΔΙΟ        141.0\n",
       "15            ΕΜΠΟΡΙΚΟ ΤΡΙΓΩΝΟ-ΠΛΑΚΑ        139.0\n",
       "19                        ΚΕΡΑΜΕΙΚΟΣ        118.0\n",
       "21                          ΚΟΛΩΝΑΚΙ        117.0\n",
       "5                           ΑΚΡΟΠΟΛΗ        109.0\n",
       "25                        ΛΥΚΑΒΗΤΤΟΣ        109.0\n",
       "23               ΚΟΥΚΑΚΙ-ΜΑΚΡΥΓΙΑΝΝΗ        101.0\n",
       "17                            ΘΗΣΕΙΟ        101.0\n",
       "16                           ΖΑΠΠΕΙΟ         93.0\n",
       "26          ΜΟΥΣΕΙΟ-ΕΞΑΡΧΕΙΑ-ΝΕΑΠΟΛΗ         90.0\n",
       "34                         ΠΕΤΡΑΛΩΝΑ         84.0\n",
       "41                           ΣΕΠΟΛΙΑ         84.0\n",
       "36                   ΠΛΑΤΕΙΑ ΑΤΤΙΚΗΣ         83.0\n",
       "13                             ΓΟΥΔΙ         77.0\n",
       "28                       ΝΕΟΣ ΚΟΣΜΟΣ         76.0\n",
       "30                          ΠΑΓΚΡΑΤΙ         75.0\n",
       "18                            ΙΛΙΣΙΑ         73.0\n",
       "10                             ΓΚΑΖΙ         71.0\n",
       "2   ΑΓΙΟΣ ΚΩΝΣΤΑΝΤΙΝΟΣ-ΠΛΑΤΕΙΑ ΒΑΘΗΣ         70.0\n",
       "31                           ΠΑΤΗΣΙΑ         65.0\n",
       "12                             ΓΟΥΒΑ         65.0\n",
       "37                          ΠΟΛΥΓΩΝΟ         64.0\n",
       "6                        ΑΜΠΕΛΟΚΗΠΟΙ         62.0\n",
       "38                          ΠΡΟΜΠΟΝΑ         61.0\n",
       "27                        ΝΕΑ ΚΥΨΕΛΗ         61.0\n",
       "24                            ΚΥΨΕΛΗ         58.0\n",
       "14                       ΕΛΛΗΝΟΡΩΣΩΝ         58.0\n",
       "11                             ΓΚΥΖΗ         57.0\n",
       "8                        ΑΝΩ ΠΑΤΗΣΙΑ         56.0\n",
       "43                   ΣΤΑΘΜΟΣ ΛΑΡΙΣΗΣ         56.0\n",
       "0                     1Ο ΝΕΚΡΟΤΑΦΕΙΟ         55.0\n",
       "4                  ΑΚΑΔΗΜΙΑ ΠΛΑΤΩΝΟΣ         55.0\n",
       "32                       ΠΕΔΙΟ ΑΡΕΩΣ         54.0\n",
       "3                     ΑΓΙΟΣ ΝΙΚΟΛΑΟΣ         53.0\n",
       "22                           ΚΟΛΩΝΟΣ         52.0\n",
       "35                  ΠΛΑΤΕΙΑ ΑΜΕΡΙΚΗΣ         49.0\n",
       "40                         ΡΙΖΟΥΠΟΛΗ         48.0\n",
       "7                         ΑΝΩ ΚΥΨΕΛΗ         46.0\n",
       "29                           ΝΙΡΒΑΝΑ         45.0\n",
       "33                         ΠΕΝΤΑΓΩΝΟ         44.0\n",
       "1                   ΑΓΙΟΣ ΕΛΕΥΘΕΡΙΟΣ         42.0\n",
       "20                        ΚΟΛΟΚΥΝΘΟΥ         39.0"
      ]
     },
     "execution_count": 62,
     "metadata": {},
     "output_type": "execute_result"
    }
   ],
   "source": [
    "# what is the average price per night for each area (single listing)?\n",
    "per_area_per_night_single=hosts_single.groupby('neighbourhood_cleansed', as_index=False)['price_clean'].mean().round().sort_values(by='price_clean',ascending=False)\n",
    "per_area_per_night_single"
   ]
  },
  {
   "cell_type": "markdown",
   "id": "22b64731",
   "metadata": {},
   "source": [
    "### Not sure if that is correct"
   ]
  },
  {
   "cell_type": "code",
   "execution_count": 52,
   "id": "f32438ab",
   "metadata": {},
   "outputs": [],
   "source": [
    "# i want to find which prices are greater than the total median of all areas\n",
    "for i,item in per_area_per_night.iterrows():\n",
    "    if item['price_clean']>=72:\n",
    "           per_area_per_night.at[i, 'greater_than_the_average'] = 'yes'\n",
    "    else:\n",
    "        per_area_per_night.at[i, 'greater_than_the_average'] = 'no'"
   ]
  },
  {
   "cell_type": "code",
   "execution_count": 53,
   "id": "48610e0f",
   "metadata": {
    "scrolled": true
   },
   "outputs": [
    {
     "data": {
      "text/plain": [
       "greater_than_the_average\n",
       "yes    59.52381\n",
       "no     40.47619\n",
       "Name: proportion, dtype: float64"
      ]
     },
     "execution_count": 53,
     "metadata": {},
     "output_type": "execute_result"
    }
   ],
   "source": [
    "per_area_per_night[\"greater_than_the_average\"].value_counts(normalize=True)*100"
   ]
  },
  {
   "cell_type": "markdown",
   "id": "c6f8d64c",
   "metadata": {},
   "source": [
    "AND MAKE THE MAP ON MONDAY AAAAAAA"
   ]
  },
  {
   "cell_type": "markdown",
   "id": "e54fd79c",
   "metadata": {},
   "source": [
    "#### Should i also find the price per night for longterm stay?"
   ]
  },
  {
   "cell_type": "code",
   "execution_count": null,
   "id": "b8735bc8",
   "metadata": {},
   "outputs": [],
   "source": [
    "# what precentage of these are greater than the average\n",
    "# what is the \"per night\" in rent prices"
   ]
  },
  {
   "cell_type": "code",
   "execution_count": null,
   "id": "6ed44ecb",
   "metadata": {},
   "outputs": [],
   "source": []
  }
 ],
 "metadata": {
  "kernelspec": {
   "display_name": "Python 3 (ipykernel)",
   "language": "python",
   "name": "python3"
  },
  "language_info": {
   "codemirror_mode": {
    "name": "ipython",
    "version": 3
   },
   "file_extension": ".py",
   "mimetype": "text/x-python",
   "name": "python",
   "nbconvert_exporter": "python",
   "pygments_lexer": "ipython3",
   "version": "3.11.2"
  }
 },
 "nbformat": 4,
 "nbformat_minor": 5
}
